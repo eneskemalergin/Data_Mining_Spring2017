{
 "cells": [
  {
   "cell_type": "markdown",
   "metadata": {},
   "source": [
    "Step 1: Data Information and Descriptive Statistics\n",
    "---\n",
    "Generate the information about your dataset: number of columns and rows, names and data types of\n",
    "the columns, memory usage of the dataset.\n",
    "\n",
    "> Hint: Pandas data frame info() function.\n",
    "\n",
    "Generate descriptive statistics of all columns (input and output) of your dataset. Descriptive statistics for\n",
    "numerical columns include: count, mean, std, min, 25 percentile (Q1), 50 percentile (Q2, median), 75\n",
    "percentile (Q3), max values of the columns. For categorical columns, determine distinct values and their\n",
    "frequency in each categorical column.\n",
    "\n",
    "> Hint: Pandas, data frame describe() function."
   ]
  },
  {
   "cell_type": "code",
   "execution_count": null,
   "metadata": {
    "collapsed": true
   },
   "outputs": [],
   "source": []
  },
  {
   "cell_type": "markdown",
   "metadata": {},
   "source": [
    "Step 2: Train Test Split\n",
    "---\n",
    "Split your data into Training and Test data set by randomly selecting; use 70% for training and 30 % for\n",
    "testing. Generate descriptive statistics of all columns (input and output) of Training and Test datasets.\n",
    "Review the descriptive statistics of input output columns in Train, Test and original Full (before the\n",
    "splitting operation) datasets and compare them to each other. Are they similar or not? Do you think\n",
    "Train and Test dataset are representative of the Full datasets ? why ?\n",
    "\n",
    "> Hint: Scikit learn, data train_test_split(), stratified function."
   ]
  },
  {
   "cell_type": "code",
   "execution_count": null,
   "metadata": {
    "collapsed": true
   },
   "outputs": [],
   "source": []
  },
  {
   "cell_type": "markdown",
   "metadata": {},
   "source": [
    "Step 3: Analysis of the Output Column\n",
    "---\n",
    "Analyze the output columns in Train and Test dataset. If the output column is numerical then calculate\n",
    "the IQR (inter quartile range, Q3-Q1) and Range (difference between max and min value). If your output\n",
    "column is categorical then determine if the column is nominal or ordinal, why?. Is there a class\n",
    "imbalance problem? (check if there is big difference between the number of distinct values in your\n",
    "categorical output column)"
   ]
  },
  {
   "cell_type": "code",
   "execution_count": null,
   "metadata": {
    "collapsed": true
   },
   "outputs": [],
   "source": []
  },
  {
   "cell_type": "markdown",
   "metadata": {},
   "source": [
    "Step 4: Scale Training and Test dataset\n",
    "---\n",
    "Using one of the scaling method (max, min-max, standard or robust), create a scaler object and scale the\n",
    "numerical input columns of the Training dataset. Using the same scaler object, scale the numerical input\n",
    "columns of the Test set. Generate the descriptive statistics of the scaled input columns of Training and\n",
    "Test set.\n",
    "If some of the input columns are categorical then convert them to binary columns using one-hotencoder()\n",
    "function (scikit learn) or dummy() function (Pandas data frame).\n",
    "\n",
    "> Hint:\n",
    "- http://scikit-learn.org/stable/modules/preprocessing.html#preprocessing\n"
   ]
  },
  {
   "cell_type": "code",
   "execution_count": null,
   "metadata": {
    "collapsed": true
   },
   "outputs": [],
   "source": []
  },
  {
   "cell_type": "markdown",
   "metadata": {},
   "source": [
    "Step 5: Build Predictive Model\n",
    "---\n",
    "Using one of the methods (Gradient Boosting Machines, Random Forest) build your ensemble predictive\n",
    "model using the scaled input columns of Training set. To find the optimum values for the model\n",
    "parameters, use Grid Search with k-fold cross-validation in building your model. Grid Search is one of\n",
    "the method used to perform Hyper Parameter optimization to generate more accurate (better\n",
    "generalized) models.\n",
    "\n",
    "> Hint:\n",
    "- http://scikit-learn.org/stable/supervised_learning.html#supervised-learning\n",
    "- http://scikit-learn.org/stable/modules/cross_validation.html\n",
    "- http://scikit-learn.org/stable/modules/generated/sklearn.model_selection.GridSearchCV.html\n",
    "- http://scikit-learn.org/stable/modules/grid_search.html\n",
    "- http://scikit-learn.org/stable/modules/ensemble.html#random-forests\n",
    "- http://scikit-learn.org/stable/modules/generated/sklearn.ensemble.GradientBoostingClassifier.html\n",
    "- http://scikit-learn.org/stable/modules/generated/sklearn.ensemble.GradientBoostingRegressor.html\n"
   ]
  },
  {
   "cell_type": "code",
   "execution_count": null,
   "metadata": {
    "collapsed": true
   },
   "outputs": [],
   "source": []
  },
  {
   "cell_type": "markdown",
   "metadata": {},
   "source": [
    "Step 6: Model Predictions on Training Dataset\n",
    "---\n",
    "Apply your model to input (scaled) columns of Training dataset to obtain the predicted output for\n",
    "Training dataset. If your model is regression then plot actual output versus predicted output column of\n",
    "Training dataset. If your model is classification then generate confusion matrix on actual and predicted\n",
    "columns of Training dataset.\n",
    "\n",
    "> Hint: Matplotlip, Seaborn, Bokeh scatter(), plot() functions\n",
    "- http://scikit-learn.org/0.15/auto_examples/plot_confusion_matrix.html\n",
    "- http://scikit-learn.org/stable/auto_examples/model_selection/plot_confusion_matrix.html\n"
   ]
  },
  {
   "cell_type": "code",
   "execution_count": null,
   "metadata": {
    "collapsed": true
   },
   "outputs": [],
   "source": []
  },
  {
   "cell_type": "markdown",
   "metadata": {},
   "source": [
    "Step 7: Model Predictions on Test Dataset\n",
    "---\n",
    "Apply your model to input (scaled) columns of Test dataset to obtain the predicted output for Test\n",
    "dataset. If your model is regression then plot actual output versus predicted output column of Test\n",
    "dataset. If your model is classification then generate confusion matrix on actual and predicted columns\n",
    "of Test dataset.\n",
    "\n",
    "> Hint: Matplotlip, Seaborn, Bokeh scatter(), plot() functions\n",
    "- http://scikit-learn.org/0.15/auto_examples/plot_confusion_matrix.html\n",
    "- http://scikit-learn.org/stable/auto_examples/model_selection/plot_confusion_matrix.html\n"
   ]
  },
  {
   "cell_type": "code",
   "execution_count": null,
   "metadata": {
    "collapsed": true
   },
   "outputs": [],
   "source": []
  },
  {
   "cell_type": "markdown",
   "metadata": {},
   "source": [
    "Step 8: Model Performance\n",
    "---\n",
    "Using one of the error (evaluation) metrics (classification or regression), calculate the performance of\n",
    "the model on Training set and Test set. Compare the performance of the model on Training and Test set.\n",
    "Which one (Training or Testing performance) is better, is there an overfitting case, why ?.\n",
    "Would you deploy (Productionize) this model for using in your business system? why ?\n",
    "Classification Metrics: Accuracy, Precision, Recall, F-score, Recall, AUC, ROC etc\n",
    "Regression Metrics: RMSE, MSE, MAE, R2 etc\n",
    "\n",
    "> Hint:\n",
    "- http://scikit-learn.org/stable/model_selection.html#model-selection\n",
    "- http://scikit-learn.org/stable/modules/model_evaluation.html#classification-report\n"
   ]
  },
  {
   "cell_type": "code",
   "execution_count": null,
   "metadata": {
    "collapsed": true
   },
   "outputs": [],
   "source": []
  },
  {
   "cell_type": "markdown",
   "metadata": {},
   "source": [
    "Step 9: Update the Model\n",
    "---\n",
    "Go back to Step5, and choose random values (use default values) of the model parameters and re-train\n",
    "the model. Repeat Steps: 6, 7 and 8. Using the same error metric, generate the accuracy of the model on\n",
    "Training and Test dataset. Did you get a better or worse performance on Training or Test set?\n",
    "Explain why the new model performs better or worse than the former model. What does\n",
    "hyperparameter optimization (grid search) on model building enable?"
   ]
  },
  {
   "cell_type": "code",
   "execution_count": null,
   "metadata": {
    "collapsed": true
   },
   "outputs": [],
   "source": []
  },
  {
   "cell_type": "markdown",
   "metadata": {},
   "source": [
    "Step 10: Change the Error Metric\n",
    "---\n",
    "Choose another error metric other than you used in Step 8 and evaluate the performance of the model\n",
    "(optimized) on Training and Test dataset by generating the accuracy of the model based on the new\n",
    "metric. Compare the results and explain which error metric is better for your modeling and why?\n"
   ]
  },
  {
   "cell_type": "code",
   "execution_count": null,
   "metadata": {
    "collapsed": true
   },
   "outputs": [],
   "source": []
  }
 ],
 "metadata": {
  "kernelspec": {
   "display_name": "Python 3",
   "language": "python",
   "name": "python3"
  },
  "language_info": {
   "codemirror_mode": {
    "name": "ipython",
    "version": 3
   },
   "file_extension": ".py",
   "mimetype": "text/x-python",
   "name": "python",
   "nbconvert_exporter": "python",
   "pygments_lexer": "ipython3",
   "version": "3.6.0"
  }
 },
 "nbformat": 4,
 "nbformat_minor": 2
}
